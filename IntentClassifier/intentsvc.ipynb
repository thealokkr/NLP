{
 "cells": [
  {
   "cell_type": "code",
   "execution_count": 1,
   "metadata": {},
   "outputs": [
    {
     "name": "stderr",
     "output_type": "stream",
     "text": [
      "Using TensorFlow backend.\n"
     ]
    }
   ],
   "source": [
    "import numpy as np\n",
    "from intent_utils import *\n",
    "import matplotlib.pyplot as plt\n",
    "from keras.models import load_model\n",
    "import time\n",
    "import os\n",
    "\n",
    "%matplotlib inline"
   ]
  },
  {
   "cell_type": "code",
   "execution_count": 2,
   "metadata": {},
   "outputs": [],
   "source": [
    "X_train, Y_train = read_csv('data/train_intent.csv')\n",
    "X_test, Y_test = read_csv('data/test_intent.csv')"
   ]
  },
  {
   "cell_type": "code",
   "execution_count": 3,
   "metadata": {},
   "outputs": [
    {
     "name": "stdout",
     "output_type": "stream",
     "text": [
      "17\n"
     ]
    }
   ],
   "source": [
    "#maxLen = len(max(X_train, key=len).split())\n",
    "tokenized_sentences = [sentence.split(\" \") for sentence in X_train]\n",
    "longest_sen = max(tokenized_sentences, key=len)\n",
    "maxLen = len(longest_sen)\n",
    "print(maxLen)"
   ]
  },
  {
   "cell_type": "code",
   "execution_count": 4,
   "metadata": {},
   "outputs": [
    {
     "name": "stdout",
     "output_type": "stream",
     "text": [
      "Good Afternoon Call_Opening\n"
     ]
    }
   ],
   "source": [
    "index = 1\n",
    "print(X_train[index], label_to_class(Y_train[index]))"
   ]
  },
  {
   "cell_type": "markdown",
   "metadata": {},
   "source": [
    "To get our labels into a format suitable for training a softmax classifier, lets convert $Y$ from its current shape  current shape $(m, 1)$ into a \"one-hot representation\" $(m, 5)$, where each row is a one-hot vector giving the label of one example."
   ]
  },
  {
   "cell_type": "code",
   "execution_count": 5,
   "metadata": {},
   "outputs": [],
   "source": [
    "Y_oh_train = convert_to_one_hot(Y_train, C = 15)\n",
    "Y_oh_test = convert_to_one_hot(Y_test, C = 15)"
   ]
  },
  {
   "cell_type": "markdown",
   "metadata": {},
   "source": [
    "Let's see what `convert_to_one_hot()` did."
   ]
  },
  {
   "cell_type": "code",
   "execution_count": 6,
   "metadata": {},
   "outputs": [
    {
     "name": "stdout",
     "output_type": "stream",
     "text": [
      "6 is converted into one hot [ 0.  0.  0.  0.  0.  0.  1.  0.  0.  0.  0.  0.  0.  0.  0.]\n"
     ]
    }
   ],
   "source": [
    "index = 50\n",
    "print(Y_train[index], \"is converted into one hot\", Y_oh_train[index])"
   ]
  },
  {
   "cell_type": "markdown",
   "metadata": {},
   "source": [
    "All the data is now ready to be fed into the Intent class model. Let's implement the model!"
   ]
  },
  {
   "cell_type": "markdown",
   "metadata": {},
   "source": [
    "### Time to load the Glove\n",
    "\n",
    "We will use pretrained 50-dimensional GloVe embeddings."
   ]
  },
  {
   "cell_type": "code",
   "execution_count": 7,
   "metadata": {},
   "outputs": [],
   "source": [
    "word_to_index, index_to_word, word_to_vec_map = read_glove_vecs('data/glove.6B.50d.txt')"
   ]
  },
  {
   "cell_type": "code",
   "execution_count": 8,
   "metadata": {},
   "outputs": [],
   "source": [
    "# Adding unknown word details\n",
    "word_to_vec_map[\"<UNK>\"] = np.zeros((50))\n",
    "index_to_word[400001] = \"<UNK>\"\n",
    "word_to_index[\"<UNK>\"] = 400001"
   ]
  },
  {
   "cell_type": "markdown",
   "metadata": {},
   "source": [
    "\n",
    "- `word_to_index`: dictionary mapping from words to their indices in the vocabulary (400,001 words, with the valid indices ranging from 0 to 400,000)\n",
    "- `index_to_word`: dictionary mapping from indices to their corresponding words in the vocabulary\n",
    "- `word_to_vec_map`: dictionary mapping words to their GloVe vector representation.\n"
   ]
  },
  {
   "cell_type": "markdown",
   "metadata": {},
   "source": [
    "## INTENT CLASS: Using LSTMs in Keras: "
   ]
  },
  {
   "cell_type": "code",
   "execution_count": 9,
   "metadata": {},
   "outputs": [],
   "source": [
    "import numpy as np\n",
    "np.random.seed(0)\n",
    "from keras.models import Model\n",
    "from keras.layers import Dense, Input, Dropout, LSTM, Activation\n",
    "from keras.layers.embeddings import Embedding\n",
    "from keras.preprocessing import sequence\n",
    "from keras.initializers import glorot_uniform\n",
    "np.random.seed(1)"
   ]
  },
  {
   "cell_type": "code",
   "execution_count": 10,
   "metadata": {},
   "outputs": [],
   "source": [
    "\n",
    "def sentences_to_indices(X, word_to_index, max_len):\n",
    "    \"\"\"\n",
    "    Converts an array of sentences (strings) into an array of indices corresponding to words in the sentences.\n",
    "    The output shape should be such that it can be given to `Embedding()`. \n",
    "    \n",
    "    Arguments:\n",
    "    X -- array of sentences (strings), of shape (m, 1)\n",
    "    word_to_index -- a dictionary containing the each word mapped to its index\n",
    "    max_len -- maximum number of words in a sentence. You can assume every sentence in X is no longer than this. \n",
    "    \n",
    "    Returns:\n",
    "    X_indices -- array of indices corresponding to words in the sentences from X, of shape (m, max_len)\n",
    "    \"\"\"\n",
    "    \n",
    "    m = X.shape[0]                                   # number of training examples\n",
    "    \n",
    "    ### START CODE HERE ###\n",
    "    # Initialize X_indices as a numpy matrix of zeros and the correct shape (≈ 1 line)\n",
    "    X_indices = np.zeros(((m,max_len)))\n",
    "    \n",
    "    for i in range(m):                               # loop over training examples\n",
    "        \n",
    "        # Convert the ith training sentence in lower case and split is into words. You should get a list of words.\n",
    "        sentence_words =X[i].lower().split()\n",
    "        \n",
    "        # Initialize j to 0\n",
    "        j = 0\n",
    "        \n",
    "        # Loop over the words of sentence_words\n",
    "        for w in sentence_words:\n",
    "            # Set the (i,j)th entry of X_indices to the index of the correct word.\n",
    "            try:\n",
    "                embedding_vector = word_to_index[w]     \n",
    "            except KeyError:\n",
    "                embedding_vector = word_to_index[\"<UNK>\"]      #Its an unknown word\n",
    "           \n",
    "            if embedding_vector is not None:\n",
    "                # X_indices[i, j] = word_to_index[w]\n",
    "                X_indices[i, j] = embedding_vector\n",
    "                # Increment j to j + 1\n",
    "                j = j +1\n",
    "                if j>=max_len:\n",
    "                    break\n",
    "            \n",
    "    ### END CODE HERE ###\n",
    "    \n",
    "    return X_indices"
   ]
  },
  {
   "cell_type": "code",
   "execution_count": 11,
   "metadata": {},
   "outputs": [
    {
     "name": "stdout",
     "output_type": "stream",
     "text": [
      "<UNK>\n"
     ]
    }
   ],
   "source": [
    "word_to_vec_map['<UNK>']\n",
    "print(index_to_word[400001])"
   ]
  },
  {
   "cell_type": "markdown",
   "metadata": {},
   "source": [
    "Testing the  `sentences_to_indices()` function"
   ]
  },
  {
   "cell_type": "code",
   "execution_count": 12,
   "metadata": {},
   "outputs": [
    {
     "name": "stdout",
     "output_type": "stream",
     "text": [
      "X1 = ['Municipal corporation' 'May i know your salary' 'Can i setup a call']\n",
      "X1_indices = [[ 252973.  109427.       0.       0.       0.       0.       0.       0.\n",
      "        0.       0.       0.       0.       0.       0.       0.       0.\n",
      "        0.       0.       0.       0.       0.       0.       0.       0.\n",
      "        0.       0.       0.       0.       0.       0.]\n",
      " [ 237383.  185457.  209645.  394565.  316259.       0.       0.       0.\n",
      "        0.       0.       0.       0.       0.       0.       0.       0.\n",
      "        0.       0.       0.       0.       0.       0.       0.       0.\n",
      "        0.       0.       0.       0.       0.       0.]\n",
      " [  90548.  185457.  326012.   43010.   89824.       0.       0.       0.\n",
      "        0.       0.       0.       0.       0.       0.       0.       0.\n",
      "        0.       0.       0.       0.       0.       0.       0.       0.\n",
      "        0.       0.       0.       0.       0.       0.]]\n"
     ]
    }
   ],
   "source": [
    "X1 = np.array([\"Municipal corporation\", \"May i know your salary\", \"Can i setup a call\"])\n",
    "X1_indices = sentences_to_indices(X1,word_to_index, max_len = 30)\n",
    "print(\"X1 =\", X1)\n",
    "print(\"X1_indices =\", X1_indices)"
   ]
  },
  {
   "cell_type": "code",
   "execution_count": 13,
   "metadata": {},
   "outputs": [],
   "source": [
    "def pretrained_embedding_layer(word_to_vec_map, word_to_index):\n",
    "    \"\"\"\n",
    "    Creates a Keras Embedding() layer and loads in pre-trained GloVe 50-dimensional vectors.\n",
    "    \n",
    "    Arguments:\n",
    "    word_to_vec_map -- dictionary mapping words to their GloVe vector representation.\n",
    "    word_to_index -- dictionary mapping from words to their indices in the vocabulary (400,001 words)\n",
    "\n",
    "    Returns:\n",
    "    embedding_layer -- pretrained layer Keras instance\n",
    "    \"\"\"\n",
    "    \n",
    "    vocab_len = len(word_to_index) + 1                  # adding 1 to fit Keras embedding (requirement)\n",
    "    emb_dim = word_to_vec_map[\"good\"].shape[0]      # define dimensionality of your GloVe word vectors (= 50)\n",
    "    \n",
    "    ### START CODE HERE ###\n",
    "    # Initialize the embedding matrix as a numpy array of zeros of shape (vocab_len, dimensions of word vectors = emb_dim)\n",
    "    emb_matrix = np.zeros((vocab_len,emb_dim))\n",
    "    \n",
    "    # Set each row \"index\" of the embedding matrix to be the word vector representation of the \"index\"th word of the vocabulary\n",
    "    for word, index in word_to_index.items():\n",
    "        emb_matrix[index, :] = word_to_vec_map[word]\n",
    "\n",
    "    # Define Keras embedding layer with the correct output/input sizes, make it trainable. Use Embedding(...). Make sure to set trainable=False. \n",
    "    embedding_layer = Embedding(vocab_len,\n",
    "                            emb_dim,\n",
    "                            weights=[emb_matrix],\n",
    "                            trainable=True)\n",
    "    ### END CODE HERE ###\n",
    "\n",
    "    # Build the embedding layer, it is required before setting the weights of the embedding layer. Do not modify the \"None\".\n",
    "    embedding_layer.build((None,))\n",
    "    \n",
    "    # Set the weights of the embedding layer to the embedding matrix. Your layer is now pretrained.\n",
    "    embedding_layer.set_weights([emb_matrix])\n",
    "    \n",
    "    return embedding_layer"
   ]
  },
  {
   "cell_type": "code",
   "execution_count": 14,
   "metadata": {},
   "outputs": [
    {
     "name": "stdout",
     "output_type": "stream",
     "text": [
      "weights[0][1][3] = -0.3403\n"
     ]
    }
   ],
   "source": [
    "embedding_layer = pretrained_embedding_layer(word_to_vec_map, word_to_index)\n",
    "print(\"weights[0][1][3] =\", embedding_layer.get_weights()[0][1][3])"
   ]
  },
  {
   "cell_type": "markdown",
   "metadata": {},
   "source": [
    "**Expected Output**:\n",
    "\n",
    "<table>\n",
    "    <tr>\n",
    "        <td>\n",
    "            **weights[0][1][3] =**\n",
    "        </td>\n",
    "        <td>\n",
    "           -0.3403\n",
    "        </td>\n",
    "    </tr>\n",
    "</table>"
   ]
  },
  {
   "cell_type": "code",
   "execution_count": 15,
   "metadata": {},
   "outputs": [],
   "source": [
    "def Sentence_Intent(input_shape, word_to_vec_map, word_to_index):\n",
    "    \"\"\"\n",
    "    Function creating the Intent class model's graph.\n",
    "    \n",
    "    Arguments:\n",
    "    input_shape -- shape of the input, usually (max_len,)\n",
    "    word_to_vec_map -- dictionary mapping every word in a vocabulary into its 50-dimensional vector representation\n",
    "    word_to_index -- dictionary mapping from words to their indices in the vocabulary (400,001 words)\n",
    "\n",
    "    Returns:\n",
    "    model -- a model instance in Keras\n",
    "    \"\"\"\n",
    "    \n",
    "    ### START CODE HERE ###\n",
    "    # Define sentence_indices as the input of the graph, it should be of shape input_shape and dtype 'int32' (as it contains indices).\n",
    "    sentence_indices = Input(shape=input_shape, dtype='int32')\n",
    "    \n",
    "    # Create the embedding layer pretrained with GloVe Vectors (≈1 line)\n",
    "    embedding_layer = pretrained_embedding_layer(word_to_vec_map, word_to_index)\n",
    "    \n",
    "    # Propagate sentence_indices through your embedding layer, you get back the embeddings\n",
    "    embeddings = embedding_layer(sentence_indices)  \n",
    "    \n",
    "    # Propagate the embeddings through an LSTM layer with 128-dimensional hidden state\n",
    "    # Be careful, the returned output should be a batch of sequences.\n",
    "    X = LSTM(128, return_sequences = True)(embeddings)\n",
    "    # Add dropout with a probability of 0.5\n",
    "    X = Dropout(0.5)(X)\n",
    "    # Propagate X trough another LSTM layer with 128-dimensional hidden state\n",
    "    # Be careful, the returned output should be a single hidden state, not a batch of sequences.\n",
    "    X = LSTM(128, return_sequences = False)(X)\n",
    "    # Add dropout with a probability of 0.5\n",
    "    X = Dropout(0.5)(X)\n",
    "    # Propagate X through a Dense layer with softmax activation to get back a batch of 5-dimensional vectors.\n",
    "    X = Dense(15,activation='softmax')(X)\n",
    "    # Add a softmax activation\n",
    "    X = Activation('softmax')(X)\n",
    "    \n",
    "    # Create Model instance which converts sentence_indices into X.\n",
    "    model = Model(sentence_indices,X)\n",
    "    \n",
    "    ### END CODE HERE ###\n",
    "    \n",
    "    return model"
   ]
  },
  {
   "cell_type": "code",
   "execution_count": 16,
   "metadata": {
    "scrolled": false
   },
   "outputs": [
    {
     "name": "stdout",
     "output_type": "stream",
     "text": [
      "_________________________________________________________________\n",
      "Layer (type)                 Output Shape              Param #   \n",
      "=================================================================\n",
      "input_1 (InputLayer)         (None, 17)                0         \n",
      "_________________________________________________________________\n",
      "embedding_2 (Embedding)      (None, 17, 50)            20000100  \n",
      "_________________________________________________________________\n",
      "lstm_1 (LSTM)                (None, 17, 128)           91648     \n",
      "_________________________________________________________________\n",
      "dropout_1 (Dropout)          (None, 17, 128)           0         \n",
      "_________________________________________________________________\n",
      "lstm_2 (LSTM)                (None, 128)               131584    \n",
      "_________________________________________________________________\n",
      "dropout_2 (Dropout)          (None, 128)               0         \n",
      "_________________________________________________________________\n",
      "dense_1 (Dense)              (None, 15)                1935      \n",
      "_________________________________________________________________\n",
      "activation_1 (Activation)    (None, 15)                0         \n",
      "=================================================================\n",
      "Total params: 20,225,267\n",
      "Trainable params: 20,225,267\n",
      "Non-trainable params: 0\n",
      "_________________________________________________________________\n"
     ]
    }
   ],
   "source": [
    "model = Sentence_Intent((maxLen,), word_to_vec_map, word_to_index)\n",
    "model.summary()"
   ]
  },
  {
   "cell_type": "code",
   "execution_count": 17,
   "metadata": {},
   "outputs": [],
   "source": [
    "model.compile(loss='categorical_crossentropy', optimizer='adam', metrics=['accuracy'])"
   ]
  },
  {
   "cell_type": "markdown",
   "metadata": {},
   "source": [
    "It's time to train the model. The `model` takes as input an array of shape (`m`, `max_len`) and outputs probability vectors of shape (`m`, `number of classes`)."
   ]
  },
  {
   "cell_type": "code",
   "execution_count": 18,
   "metadata": {},
   "outputs": [],
   "source": [
    "X_train_indices = sentences_to_indices(X_train, word_to_index, maxLen)\n",
    "Y_train_oh = convert_to_one_hot(Y_train, C = 15)"
   ]
  },
  {
   "cell_type": "code",
   "execution_count": 19,
   "metadata": {
    "scrolled": true
   },
   "outputs": [
    {
     "name": "stdout",
     "output_type": "stream",
     "text": [
      "Epoch 1/200\n",
      "121/121 [==============================] - 1s 12ms/step - loss: 2.7064 - acc: 0.1157\n",
      "Epoch 2/200\n",
      "121/121 [==============================] - 1s 9ms/step - loss: 2.6947 - acc: 0.1570\n",
      "Epoch 3/200\n",
      "121/121 [==============================] - 1s 9ms/step - loss: 2.6740 - acc: 0.1488\n",
      "Epoch 4/200\n",
      "121/121 [==============================] - 1s 9ms/step - loss: 2.6610 - acc: 0.1322\n",
      "Epoch 5/200\n",
      "121/121 [==============================] - 1s 9ms/step - loss: 2.6626 - acc: 0.1322\n",
      "Epoch 6/200\n",
      "121/121 [==============================] - 1s 9ms/step - loss: 2.6302 - acc: 0.1736\n",
      "Epoch 7/200\n",
      "121/121 [==============================] - 1s 9ms/step - loss: 2.5810 - acc: 0.3306\n",
      "Epoch 8/200\n",
      "121/121 [==============================] - 1s 9ms/step - loss: 2.5472 - acc: 0.3554\n",
      "Epoch 9/200\n",
      "121/121 [==============================] - 1s 9ms/step - loss: 2.4866 - acc: 0.3884\n",
      "Epoch 10/200\n",
      "121/121 [==============================] - 1s 9ms/step - loss: 2.4481 - acc: 0.4215\n",
      "Epoch 11/200\n",
      "121/121 [==============================] - 1s 9ms/step - loss: 2.4149 - acc: 0.4711\n",
      "Epoch 12/200\n",
      "121/121 [==============================] - 1s 9ms/step - loss: 2.3921 - acc: 0.4793\n",
      "Epoch 13/200\n",
      "121/121 [==============================] - 1s 9ms/step - loss: 2.4127 - acc: 0.4711\n",
      "Epoch 14/200\n",
      "121/121 [==============================] - 1s 9ms/step - loss: 2.3670 - acc: 0.5207\n",
      "Epoch 15/200\n",
      "121/121 [==============================] - 1s 9ms/step - loss: 2.3285 - acc: 0.5455\n",
      "Epoch 16/200\n",
      "121/121 [==============================] - 1s 9ms/step - loss: 2.3231 - acc: 0.5372\n",
      "Epoch 17/200\n",
      "121/121 [==============================] - 1s 9ms/step - loss: 2.3115 - acc: 0.5455\n",
      "Epoch 18/200\n",
      "121/121 [==============================] - 1s 9ms/step - loss: 2.3032 - acc: 0.5455\n",
      "Epoch 19/200\n",
      "121/121 [==============================] - 1s 9ms/step - loss: 2.2920 - acc: 0.5455\n",
      "Epoch 20/200\n",
      "121/121 [==============================] - 1s 9ms/step - loss: 2.2709 - acc: 0.5537\n",
      "Epoch 21/200\n",
      "121/121 [==============================] - 1s 9ms/step - loss: 2.2487 - acc: 0.6033\n",
      "Epoch 22/200\n",
      "121/121 [==============================] - 1s 9ms/step - loss: 2.2402 - acc: 0.6033\n",
      "Epoch 23/200\n",
      "121/121 [==============================] - 1s 9ms/step - loss: 2.2229 - acc: 0.6116\n",
      "Epoch 24/200\n",
      "121/121 [==============================] - 1s 9ms/step - loss: 2.2127 - acc: 0.6198\n",
      "Epoch 25/200\n",
      "121/121 [==============================] - 1s 9ms/step - loss: 2.1827 - acc: 0.6612\n",
      "Epoch 26/200\n",
      "121/121 [==============================] - 1s 9ms/step - loss: 2.1843 - acc: 0.6694\n",
      "Epoch 27/200\n",
      "121/121 [==============================] - 1s 9ms/step - loss: 2.1626 - acc: 0.6777\n",
      "Epoch 28/200\n",
      "121/121 [==============================] - 1s 9ms/step - loss: 2.1401 - acc: 0.7273\n",
      "Epoch 29/200\n",
      "121/121 [==============================] - 1s 9ms/step - loss: 2.1330 - acc: 0.7190\n",
      "Epoch 30/200\n",
      "121/121 [==============================] - 1s 9ms/step - loss: 2.1335 - acc: 0.7107\n",
      "Epoch 31/200\n",
      "121/121 [==============================] - 1s 9ms/step - loss: 2.1077 - acc: 0.7355\n",
      "Epoch 32/200\n",
      "121/121 [==============================] - 1s 9ms/step - loss: 2.1275 - acc: 0.7107\n",
      "Epoch 33/200\n",
      "121/121 [==============================] - 1s 9ms/step - loss: 2.1544 - acc: 0.6612\n",
      "Epoch 34/200\n",
      "121/121 [==============================] - 1s 9ms/step - loss: 2.1269 - acc: 0.7025\n",
      "Epoch 35/200\n",
      "121/121 [==============================] - 1s 9ms/step - loss: 2.0869 - acc: 0.7438\n",
      "Epoch 36/200\n",
      "121/121 [==============================] - 1s 9ms/step - loss: 2.1082 - acc: 0.7355\n",
      "Epoch 37/200\n",
      "121/121 [==============================] - 1s 9ms/step - loss: 2.0928 - acc: 0.7273\n",
      "Epoch 38/200\n",
      "121/121 [==============================] - 1s 9ms/step - loss: 2.1192 - acc: 0.7190\n",
      "Epoch 39/200\n",
      "121/121 [==============================] - 1s 9ms/step - loss: 2.0674 - acc: 0.7603\n",
      "Epoch 40/200\n",
      "121/121 [==============================] - 1s 9ms/step - loss: 2.0698 - acc: 0.7603\n",
      "Epoch 41/200\n",
      "121/121 [==============================] - 1s 9ms/step - loss: 2.0564 - acc: 0.7686\n",
      "Epoch 42/200\n",
      "121/121 [==============================] - 1s 9ms/step - loss: 2.0309 - acc: 0.7934\n",
      "Epoch 43/200\n",
      "121/121 [==============================] - 1s 9ms/step - loss: 2.0660 - acc: 0.7438\n",
      "Epoch 44/200\n",
      "121/121 [==============================] - 1s 9ms/step - loss: 2.0359 - acc: 0.7934\n",
      "Epoch 45/200\n",
      "121/121 [==============================] - 1s 9ms/step - loss: 2.0377 - acc: 0.7769\n",
      "Epoch 46/200\n",
      "121/121 [==============================] - 1s 9ms/step - loss: 2.0237 - acc: 0.7934\n",
      "Epoch 47/200\n",
      "121/121 [==============================] - 1s 9ms/step - loss: 2.0183 - acc: 0.8099\n",
      "Epoch 48/200\n",
      "121/121 [==============================] - 1s 9ms/step - loss: 2.0229 - acc: 0.8099\n",
      "Epoch 49/200\n",
      "121/121 [==============================] - 1s 9ms/step - loss: 2.0015 - acc: 0.8264\n",
      "Epoch 50/200\n",
      "121/121 [==============================] - 1s 9ms/step - loss: 1.9936 - acc: 0.8347\n",
      "Epoch 51/200\n",
      "121/121 [==============================] - 1s 9ms/step - loss: 2.0004 - acc: 0.8264\n",
      "Epoch 52/200\n",
      "121/121 [==============================] - 1s 9ms/step - loss: 1.9878 - acc: 0.8512\n",
      "Epoch 53/200\n",
      "121/121 [==============================] - 1s 9ms/step - loss: 2.0020 - acc: 0.8264\n",
      "Epoch 54/200\n",
      "121/121 [==============================] - 1s 9ms/step - loss: 1.9776 - acc: 0.8430\n",
      "Epoch 55/200\n",
      "121/121 [==============================] - 1s 9ms/step - loss: 1.9827 - acc: 0.8430\n",
      "Epoch 56/200\n",
      "121/121 [==============================] - 1s 9ms/step - loss: 1.9913 - acc: 0.8430\n",
      "Epoch 57/200\n",
      "121/121 [==============================] - 1s 9ms/step - loss: 1.9894 - acc: 0.8347\n",
      "Epoch 58/200\n",
      "121/121 [==============================] - 1s 9ms/step - loss: 1.9617 - acc: 0.8595\n",
      "Epoch 59/200\n",
      "121/121 [==============================] - 1s 9ms/step - loss: 1.9695 - acc: 0.8595\n",
      "Epoch 60/200\n",
      "121/121 [==============================] - 1s 9ms/step - loss: 1.9744 - acc: 0.8512\n",
      "Epoch 61/200\n",
      "121/121 [==============================] - 1s 9ms/step - loss: 1.9601 - acc: 0.8595\n",
      "Epoch 62/200\n",
      "121/121 [==============================] - 1s 9ms/step - loss: 1.9667 - acc: 0.8512\n",
      "Epoch 63/200\n",
      "121/121 [==============================] - 1s 9ms/step - loss: 1.9644 - acc: 0.8595\n",
      "Epoch 64/200\n",
      "121/121 [==============================] - 1s 9ms/step - loss: 1.9664 - acc: 0.8512\n",
      "Epoch 65/200\n",
      "121/121 [==============================] - 1s 9ms/step - loss: 1.9874 - acc: 0.8430\n",
      "Epoch 66/200\n",
      "121/121 [==============================] - 1s 9ms/step - loss: 1.9549 - acc: 0.8760\n",
      "Epoch 67/200\n",
      "121/121 [==============================] - 1s 9ms/step - loss: 1.9537 - acc: 0.8760\n",
      "Epoch 68/200\n",
      "121/121 [==============================] - 1s 9ms/step - loss: 1.9378 - acc: 0.8926\n",
      "Epoch 69/200\n",
      "121/121 [==============================] - 1s 9ms/step - loss: 1.9427 - acc: 0.8843\n",
      "Epoch 70/200\n",
      "121/121 [==============================] - 1s 9ms/step - loss: 1.9239 - acc: 0.9008\n",
      "Epoch 71/200\n",
      "121/121 [==============================] - 1s 9ms/step - loss: 1.9279 - acc: 0.8926\n",
      "Epoch 72/200\n",
      "121/121 [==============================] - 1s 9ms/step - loss: 1.9350 - acc: 0.8843\n",
      "Epoch 73/200\n",
      "121/121 [==============================] - 1s 9ms/step - loss: 1.9355 - acc: 0.8843\n",
      "Epoch 74/200\n",
      "121/121 [==============================] - 1s 9ms/step - loss: 1.9261 - acc: 0.9008\n",
      "Epoch 75/200\n",
      "121/121 [==============================] - 1s 9ms/step - loss: 1.9511 - acc: 0.8678\n",
      "Epoch 76/200\n",
      "121/121 [==============================] - 1s 9ms/step - loss: 1.9915 - acc: 0.8347\n",
      "Epoch 77/200\n",
      "121/121 [==============================] - 1s 9ms/step - loss: 1.9701 - acc: 0.8430\n",
      "Epoch 78/200\n",
      "121/121 [==============================] - 1s 9ms/step - loss: 2.0183 - acc: 0.8017\n",
      "Epoch 79/200\n",
      "121/121 [==============================] - 1s 9ms/step - loss: 1.9908 - acc: 0.8264\n",
      "Epoch 80/200\n",
      "121/121 [==============================] - 1s 9ms/step - loss: 1.9657 - acc: 0.8595\n",
      "Epoch 81/200\n",
      "121/121 [==============================] - 1s 9ms/step - loss: 1.9333 - acc: 0.8843\n",
      "Epoch 82/200\n",
      "121/121 [==============================] - 1s 9ms/step - loss: 1.9250 - acc: 0.9008\n",
      "Epoch 83/200\n",
      "121/121 [==============================] - 1s 9ms/step - loss: 1.9207 - acc: 0.9008\n",
      "Epoch 84/200\n",
      "121/121 [==============================] - 1s 9ms/step - loss: 1.9215 - acc: 0.9008\n",
      "Epoch 85/200\n"
     ]
    },
    {
     "name": "stdout",
     "output_type": "stream",
     "text": [
      "121/121 [==============================] - 1s 9ms/step - loss: 1.9178 - acc: 0.9008\n",
      "Epoch 86/200\n",
      "121/121 [==============================] - 1s 9ms/step - loss: 1.9195 - acc: 0.9008\n",
      "Epoch 87/200\n",
      "121/121 [==============================] - 1s 9ms/step - loss: 1.9180 - acc: 0.9008\n",
      "Epoch 88/200\n",
      "121/121 [==============================] - 1s 9ms/step - loss: 1.9184 - acc: 0.9008\n",
      "Epoch 89/200\n",
      "121/121 [==============================] - 1s 9ms/step - loss: 1.9171 - acc: 0.9008\n",
      "Epoch 90/200\n",
      "121/121 [==============================] - 1s 9ms/step - loss: 1.9177 - acc: 0.9008\n",
      "Epoch 91/200\n",
      "121/121 [==============================] - 1s 9ms/step - loss: 1.9173 - acc: 0.9008\n",
      "Epoch 92/200\n",
      "121/121 [==============================] - 1s 9ms/step - loss: 1.9161 - acc: 0.9008\n",
      "Epoch 93/200\n",
      "121/121 [==============================] - 1s 9ms/step - loss: 1.9173 - acc: 0.9008\n",
      "Epoch 94/200\n",
      "121/121 [==============================] - 1s 9ms/step - loss: 1.9157 - acc: 0.9008\n",
      "Epoch 95/200\n",
      "121/121 [==============================] - 1s 9ms/step - loss: 1.9157 - acc: 0.9008\n",
      "Epoch 96/200\n",
      "121/121 [==============================] - 1s 9ms/step - loss: 1.9159 - acc: 0.9008\n",
      "Epoch 97/200\n",
      "121/121 [==============================] - 1s 9ms/step - loss: 1.9136 - acc: 0.9008\n",
      "Epoch 98/200\n",
      "121/121 [==============================] - 1s 9ms/step - loss: 1.9099 - acc: 0.9091\n",
      "Epoch 99/200\n",
      "121/121 [==============================] - 1s 9ms/step - loss: 1.9111 - acc: 0.9008\n",
      "Epoch 100/200\n",
      "121/121 [==============================] - 1s 9ms/step - loss: 1.9066 - acc: 0.9091\n",
      "Epoch 101/200\n",
      "121/121 [==============================] - 1s 9ms/step - loss: 1.9036 - acc: 0.9256\n",
      "Epoch 102/200\n",
      "121/121 [==============================] - 1s 9ms/step - loss: 1.8992 - acc: 0.9256\n",
      "Epoch 103/200\n",
      "121/121 [==============================] - 1s 9ms/step - loss: 1.8953 - acc: 0.9256\n",
      "Epoch 104/200\n",
      "121/121 [==============================] - 1s 9ms/step - loss: 1.8781 - acc: 0.9421\n",
      "Epoch 105/200\n",
      "121/121 [==============================] - 1s 9ms/step - loss: 1.8832 - acc: 0.9421\n",
      "Epoch 106/200\n",
      "121/121 [==============================] - 1s 9ms/step - loss: 1.8921 - acc: 0.9421\n",
      "Epoch 107/200\n",
      "121/121 [==============================] - 1s 9ms/step - loss: 1.9061 - acc: 0.9174\n",
      "Epoch 108/200\n",
      "121/121 [==============================] - 1s 9ms/step - loss: 1.8978 - acc: 0.9256\n",
      "Epoch 109/200\n",
      "121/121 [==============================] - 1s 9ms/step - loss: 1.9047 - acc: 0.9174\n",
      "Epoch 110/200\n",
      "121/121 [==============================] - 1s 9ms/step - loss: 1.9150 - acc: 0.9008\n",
      "Epoch 111/200\n",
      "121/121 [==============================] - 1s 9ms/step - loss: 1.9102 - acc: 0.9091\n",
      "Epoch 112/200\n",
      "121/121 [==============================] - 1s 9ms/step - loss: 1.9031 - acc: 0.9174\n",
      "Epoch 113/200\n",
      "121/121 [==============================] - 1s 9ms/step - loss: 1.8956 - acc: 0.9256\n",
      "Epoch 114/200\n",
      "121/121 [==============================] - 1s 9ms/step - loss: 1.8987 - acc: 0.9256\n",
      "Epoch 115/200\n",
      "121/121 [==============================] - 1s 9ms/step - loss: 1.8958 - acc: 0.9256\n",
      "Epoch 116/200\n",
      "121/121 [==============================] - 1s 9ms/step - loss: 1.8917 - acc: 0.9256\n",
      "Epoch 117/200\n",
      "121/121 [==============================] - 1s 9ms/step - loss: 1.8970 - acc: 0.9256\n",
      "Epoch 118/200\n",
      "121/121 [==============================] - 1s 9ms/step - loss: 1.8895 - acc: 0.9256\n",
      "Epoch 119/200\n",
      "121/121 [==============================] - 1s 9ms/step - loss: 1.8841 - acc: 0.9421\n",
      "Epoch 120/200\n",
      "121/121 [==============================] - 1s 9ms/step - loss: 1.8891 - acc: 0.9339\n",
      "Epoch 121/200\n",
      "121/121 [==============================] - 1s 9ms/step - loss: 1.8818 - acc: 0.9421\n",
      "Epoch 122/200\n",
      "121/121 [==============================] - 1s 9ms/step - loss: 1.8664 - acc: 0.9587\n",
      "Epoch 123/200\n",
      "121/121 [==============================] - 1s 9ms/step - loss: 1.8607 - acc: 0.9669\n",
      "Epoch 124/200\n",
      "121/121 [==============================] - 1s 9ms/step - loss: 1.8597 - acc: 0.9669\n",
      "Epoch 125/200\n",
      "121/121 [==============================] - 1s 9ms/step - loss: 1.9491 - acc: 0.8595\n",
      "Epoch 126/200\n",
      "121/121 [==============================] - 1s 9ms/step - loss: 2.0050 - acc: 0.8182\n",
      "Epoch 127/200\n",
      "121/121 [==============================] - 1s 9ms/step - loss: 1.9566 - acc: 0.8760\n",
      "Epoch 128/200\n",
      "121/121 [==============================] - 1s 9ms/step - loss: 1.9528 - acc: 0.8843\n",
      "Epoch 129/200\n",
      "121/121 [==============================] - 1s 9ms/step - loss: 1.9361 - acc: 0.8926\n",
      "Epoch 130/200\n",
      "121/121 [==============================] - 1s 9ms/step - loss: 1.8777 - acc: 0.9421\n",
      "Epoch 131/200\n",
      "121/121 [==============================] - 1s 9ms/step - loss: 1.9224 - acc: 0.9091\n",
      "Epoch 132/200\n",
      "121/121 [==============================] - 1s 9ms/step - loss: 1.8995 - acc: 0.9339\n",
      "Epoch 133/200\n",
      "121/121 [==============================] - 1s 9ms/step - loss: 1.8677 - acc: 0.9587\n",
      "Epoch 134/200\n",
      "121/121 [==============================] - 1s 9ms/step - loss: 1.8838 - acc: 0.9421\n",
      "Epoch 135/200\n",
      "121/121 [==============================] - 1s 9ms/step - loss: 1.8644 - acc: 0.9587\n",
      "Epoch 136/200\n",
      "121/121 [==============================] - 1s 9ms/step - loss: 1.8478 - acc: 0.9752\n",
      "Epoch 137/200\n",
      "121/121 [==============================] - 1s 9ms/step - loss: 1.8617 - acc: 0.9669\n",
      "Epoch 138/200\n",
      "121/121 [==============================] - 1s 9ms/step - loss: 1.8472 - acc: 0.9752\n",
      "Epoch 139/200\n",
      "121/121 [==============================] - 1s 9ms/step - loss: 1.8619 - acc: 0.9587\n",
      "Epoch 140/200\n",
      "121/121 [==============================] - 1s 9ms/step - loss: 1.8476 - acc: 0.9752\n",
      "Epoch 141/200\n",
      "121/121 [==============================] - 1s 9ms/step - loss: 1.8484 - acc: 0.9752\n",
      "Epoch 142/200\n",
      "121/121 [==============================] - 1s 9ms/step - loss: 1.8632 - acc: 0.9587\n",
      "Epoch 143/200\n",
      "121/121 [==============================] - 1s 9ms/step - loss: 1.8558 - acc: 0.9669\n",
      "Epoch 144/200\n",
      "121/121 [==============================] - 1s 9ms/step - loss: 1.8900 - acc: 0.9256\n",
      "Epoch 145/200\n",
      "121/121 [==============================] - 1s 9ms/step - loss: 1.8775 - acc: 0.9421\n",
      "Epoch 146/200\n",
      "121/121 [==============================] - 1s 9ms/step - loss: 1.8720 - acc: 0.9504\n",
      "Epoch 147/200\n",
      "121/121 [==============================] - 1s 9ms/step - loss: 1.8473 - acc: 0.9752\n",
      "Epoch 148/200\n",
      "121/121 [==============================] - 1s 9ms/step - loss: 1.8436 - acc: 0.9835\n",
      "Epoch 149/200\n",
      "121/121 [==============================] - 1s 9ms/step - loss: 1.8437 - acc: 0.9752\n",
      "Epoch 150/200\n",
      "121/121 [==============================] - 1s 9ms/step - loss: 1.8344 - acc: 0.9835\n",
      "Epoch 151/200\n",
      "121/121 [==============================] - 1s 9ms/step - loss: 1.8328 - acc: 0.9835\n",
      "Epoch 152/200\n",
      "121/121 [==============================] - 1s 9ms/step - loss: 1.8379 - acc: 0.9835\n",
      "Epoch 153/200\n",
      "121/121 [==============================] - 1s 9ms/step - loss: 1.8270 - acc: 0.9917\n",
      "Epoch 154/200\n",
      "121/121 [==============================] - 1s 9ms/step - loss: 1.8276 - acc: 0.9917\n",
      "Epoch 155/200\n",
      "121/121 [==============================] - 1s 9ms/step - loss: 1.8288 - acc: 0.9917\n",
      "Epoch 156/200\n",
      "121/121 [==============================] - 1s 9ms/step - loss: 1.8261 - acc: 0.9917\n",
      "Epoch 157/200\n",
      "121/121 [==============================] - 1s 9ms/step - loss: 1.8280 - acc: 0.9917\n",
      "Epoch 158/200\n",
      "121/121 [==============================] - 1s 9ms/step - loss: 1.8423 - acc: 0.9752\n",
      "Epoch 159/200\n",
      "121/121 [==============================] - 1s 9ms/step - loss: 1.8279 - acc: 0.9917\n",
      "Epoch 160/200\n",
      "121/121 [==============================] - 1s 9ms/step - loss: 1.8264 - acc: 0.9917\n",
      "Epoch 161/200\n",
      "121/121 [==============================] - 1s 9ms/step - loss: 1.8263 - acc: 0.9917\n",
      "Epoch 162/200\n",
      "121/121 [==============================] - 1s 9ms/step - loss: 1.8274 - acc: 0.9917\n",
      "Epoch 163/200\n",
      "121/121 [==============================] - 1s 9ms/step - loss: 1.8274 - acc: 0.9917\n",
      "Epoch 164/200\n",
      "121/121 [==============================] - 1s 9ms/step - loss: 1.8265 - acc: 0.9917\n",
      "Epoch 165/200\n",
      "121/121 [==============================] - 1s 9ms/step - loss: 1.8263 - acc: 0.9917\n",
      "Epoch 166/200\n",
      "121/121 [==============================] - 1s 9ms/step - loss: 1.8274 - acc: 0.9917\n",
      "Epoch 167/200\n",
      "121/121 [==============================] - 1s 9ms/step - loss: 1.8258 - acc: 0.9917\n",
      "Epoch 168/200\n"
     ]
    },
    {
     "name": "stdout",
     "output_type": "stream",
     "text": [
      "121/121 [==============================] - 1s 9ms/step - loss: 1.8269 - acc: 0.9917\n",
      "Epoch 169/200\n",
      "121/121 [==============================] - 1s 9ms/step - loss: 1.8262 - acc: 0.9917\n",
      "Epoch 170/200\n",
      "121/121 [==============================] - 1s 9ms/step - loss: 1.8258 - acc: 0.9917\n",
      "Epoch 171/200\n",
      "121/121 [==============================] - 1s 9ms/step - loss: 1.8258 - acc: 0.9917\n",
      "Epoch 172/200\n",
      "121/121 [==============================] - 1s 9ms/step - loss: 1.8261 - acc: 0.9917\n",
      "Epoch 173/200\n",
      "121/121 [==============================] - 1s 9ms/step - loss: 1.8257 - acc: 0.9917\n",
      "Epoch 174/200\n",
      "121/121 [==============================] - 1s 9ms/step - loss: 1.8269 - acc: 0.9917\n",
      "Epoch 175/200\n",
      "121/121 [==============================] - 1s 9ms/step - loss: 1.8257 - acc: 0.9917\n",
      "Epoch 176/200\n",
      "121/121 [==============================] - 1s 9ms/step - loss: 1.8260 - acc: 0.9917\n",
      "Epoch 177/200\n",
      "121/121 [==============================] - 1s 9ms/step - loss: 1.8258 - acc: 0.9917\n",
      "Epoch 178/200\n",
      "121/121 [==============================] - 1s 9ms/step - loss: 1.8263 - acc: 0.9917\n",
      "Epoch 179/200\n",
      "121/121 [==============================] - 1s 9ms/step - loss: 1.8263 - acc: 0.9917\n",
      "Epoch 180/200\n",
      "121/121 [==============================] - 1s 9ms/step - loss: 1.8258 - acc: 0.9917\n",
      "Epoch 181/200\n",
      "121/121 [==============================] - 1s 9ms/step - loss: 1.8264 - acc: 0.9917\n",
      "Epoch 182/200\n",
      "121/121 [==============================] - 1s 9ms/step - loss: 1.8263 - acc: 0.9917\n",
      "Epoch 183/200\n",
      "121/121 [==============================] - 1s 9ms/step - loss: 1.8257 - acc: 0.9917\n",
      "Epoch 184/200\n",
      "121/121 [==============================] - 1s 9ms/step - loss: 1.8255 - acc: 0.9917\n",
      "Epoch 185/200\n",
      "121/121 [==============================] - 1s 9ms/step - loss: 1.8257 - acc: 0.9917\n",
      "Epoch 186/200\n",
      "121/121 [==============================] - 1s 9ms/step - loss: 1.8272 - acc: 0.9917\n",
      "Epoch 187/200\n",
      "121/121 [==============================] - 1s 9ms/step - loss: 1.8255 - acc: 0.9917\n",
      "Epoch 188/200\n",
      "121/121 [==============================] - 1s 9ms/step - loss: 1.8256 - acc: 0.9917\n",
      "Epoch 189/200\n",
      "121/121 [==============================] - 1s 9ms/step - loss: 1.8260 - acc: 0.9917\n",
      "Epoch 190/200\n",
      "121/121 [==============================] - 1s 9ms/step - loss: 1.8257 - acc: 0.9917\n",
      "Epoch 191/200\n",
      "121/121 [==============================] - 1s 9ms/step - loss: 1.8254 - acc: 0.9917\n",
      "Epoch 192/200\n",
      "121/121 [==============================] - 1s 9ms/step - loss: 1.8258 - acc: 0.9917\n",
      "Epoch 193/200\n",
      "121/121 [==============================] - 1s 9ms/step - loss: 1.8254 - acc: 0.9917\n",
      "Epoch 194/200\n",
      "121/121 [==============================] - 1s 9ms/step - loss: 1.8257 - acc: 0.9917\n",
      "Epoch 195/200\n",
      "121/121 [==============================] - 1s 9ms/step - loss: 1.8260 - acc: 0.9917\n",
      "Epoch 196/200\n",
      "121/121 [==============================] - 1s 9ms/step - loss: 1.8256 - acc: 0.9917\n",
      "Epoch 197/200\n",
      "121/121 [==============================] - 1s 9ms/step - loss: 1.8255 - acc: 0.9917\n",
      "Epoch 198/200\n",
      "121/121 [==============================] - 1s 9ms/step - loss: 1.8261 - acc: 0.9917\n",
      "Epoch 199/200\n",
      "121/121 [==============================] - 1s 9ms/step - loss: 1.8256 - acc: 0.9917\n",
      "Epoch 200/200\n",
      "121/121 [==============================] - 1s 9ms/step - loss: 1.8256 - acc: 0.9917\n"
     ]
    },
    {
     "data": {
      "text/plain": [
       "<keras.callbacks.History at 0x1a16b7a860>"
      ]
     },
     "execution_count": 19,
     "metadata": {},
     "output_type": "execute_result"
    }
   ],
   "source": [
    "model.fit(X_train_indices, Y_train_oh, epochs = 200, batch_size = 32, shuffle=True)"
   ]
  },
  {
   "cell_type": "markdown",
   "metadata": {},
   "source": [
    "Ideally model should perform close to **100% accuracy** on the training set.  Run the following cell to evaluate your model on the test set. "
   ]
  },
  {
   "cell_type": "code",
   "execution_count": 20,
   "metadata": {
    "scrolled": true
   },
   "outputs": [
    {
     "name": "stdout",
     "output_type": "stream",
     "text": [
      "127/127 [==============================] - 0s 962us/step\n",
      "\n",
      "Test accuracy =  0.889763781405\n"
     ]
    }
   ],
   "source": [
    "X_test_indices = sentences_to_indices(X_test, word_to_index, max_len = maxLen)\n",
    "Y_test_oh = convert_to_one_hot(Y_test, C = 15)\n",
    "loss, acc = model.evaluate(X_test_indices, Y_test_oh)\n",
    "print()\n",
    "print(\"Test accuracy = \", acc)"
   ]
  },
  {
   "cell_type": "markdown",
   "metadata": {},
   "source": [
    "If the accuracy is more than 80% Save it"
   ]
  },
  {
   "cell_type": "code",
   "execution_count": null,
   "metadata": {},
   "outputs": [],
   "source": []
  },
  {
   "cell_type": "code",
   "execution_count": 21,
   "metadata": {},
   "outputs": [],
   "source": [
    "if acc > 0.80: # We will only save models if the accuracy goes beyond 80%\n",
    "    timestr = time.strftime(\"%Y%m%d-%H%M%S\")\n",
    "    model_file_name = \"Intent_class_model_%s_%s.h5\" %(timestr,str(acc))\n",
    "    model_folder_name = 'model'\n",
    "    model.save(os.path.join(model_folder_name,model_file_name))  # creates a HDF5 file 'my_model.h5'"
   ]
  },
  {
   "cell_type": "markdown",
   "metadata": {},
   "source": [
    "Accuracy between 80% and 95% should be OK for now. Run the cell below to see the mislabelled examples. "
   ]
  },
  {
   "cell_type": "code",
   "execution_count": 22,
   "metadata": {},
   "outputs": [
    {
     "name": "stdout",
     "output_type": "stream",
     "text": [
      "Expected class:Profession_Qualification prediction: Sir May I know Are you salaried or self employedCall_Closure_Permission\n",
      "Expected class:Profession_Qualification prediction: Sir may I know are you a business man or doing a jobCustomer_VOC\n",
      "Expected class:Profession_Qualification prediction: Sir may I know your occupationCustomer_VOC\n",
      "Expected class:Income_Qualification_2 prediction: OK Sir May I know What is the total EMI you are paying on your previous loansCustomer_VOC\n",
      "Expected class:Family_Income_Qualification prediction: Madam may I know if you have any other source of incomeIncome_Qualification_2\n",
      "Expected class:Family_Income_Qualification prediction: Madam May I know if there is any other family member who is earningCustomer_VOC\n",
      "Expected class:Property_Qualification_3 prediction: Sir may I know if you Have you selected the propertyCustomer_VOC\n",
      "Expected class:Property_Qualification_3 prediction: Sir may I know if you Have you identified the propertyCustomer_VOC\n",
      "Expected class:Property_Qualification_3 prediction: Sir , Is this a commercial or residential propertyLoan_Type\n",
      "Expected class:Property_Qualification_3 prediction: Sir May I know What kind of property do you wantCustomer_VOC\n",
      "Expected class:Property_Qualification_2 prediction: Madam may I know if this property approved by gram panchayatProperty_Qualification_3\n",
      "Expected class:Property_Qualification_2 prediction: Madam may I know Is this property approved by municipal corporationProperty_Qualification_3\n",
      "Expected class:Property_Qualification_2 prediction: Madam May I know if this property government approvedProperty_Qualification_3\n",
      "Expected class:ROI prediction: madam the ROI for the loan will beLoan_Type\n"
     ]
    }
   ],
   "source": [
    "# This code allows you to see the mislabelled examples\n",
    "C = 15\n",
    "y_test_oh = np.eye(C)[Y_test.reshape(-1)]\n",
    "X_test_indices = sentences_to_indices(X_test, word_to_index, maxLen)\n",
    "\n",
    "pred = model.predict(X_test_indices)\n",
    "for i in range(len(X_test)):\n",
    "    x = X_test_indices\n",
    "    num = np.argmax(pred[i])\n",
    "    if(num != Y_test[i]):\n",
    "        print('Expected class:'+ label_to_class(Y_test[i]) + ' prediction: '+ X_test[i] + label_to_class(num).strip())"
   ]
  },
  {
   "cell_type": "markdown",
   "metadata": {},
   "source": [
    "Now you can try it on your own example. Write your own sentence below. "
   ]
  },
  {
   "cell_type": "code",
   "execution_count": 23,
   "metadata": {},
   "outputs": [
    {
     "name": "stdout",
     "output_type": "stream",
     "text": [
      "morning sir Call_Opening\n"
     ]
    }
   ],
   "source": [
    "# Change the sentence below to see your prediction. Make sure all the words are in the Glove embeddings.  \n",
    "x_test = np.array(['morning sir'])\n",
    "X_test_indices = sentences_to_indices(x_test, word_to_index, maxLen)\n",
    "print(x_test[0] +' '+  label_to_class(np.argmax(model.predict(X_test_indices))))"
   ]
  },
  {
   "cell_type": "code",
   "execution_count": null,
   "metadata": {},
   "outputs": [],
   "source": []
  },
  {
   "cell_type": "code",
   "execution_count": null,
   "metadata": {},
   "outputs": [],
   "source": []
  }
 ],
 "metadata": {
  "coursera": {
   "course_slug": "nlp-sequence-models",
   "graded_item_id": "RNnEs",
   "launcher_item_id": "acNYU"
  },
  "kernelspec": {
   "display_name": "Python 3",
   "language": "python",
   "name": "python3"
  },
  "language_info": {
   "codemirror_mode": {
    "name": "ipython",
    "version": 3
   },
   "file_extension": ".py",
   "mimetype": "text/x-python",
   "name": "python",
   "nbconvert_exporter": "python",
   "pygments_lexer": "ipython3",
   "version": "3.6.4"
  }
 },
 "nbformat": 4,
 "nbformat_minor": 2
}
